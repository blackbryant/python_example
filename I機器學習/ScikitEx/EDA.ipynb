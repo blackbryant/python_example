{
 "cells": [
  {
   "cell_type": "code",
   "execution_count": null,
   "metadata": {},
   "outputs": [],
   "source": []
  },
  {
   "cell_type": "markdown",
   "metadata": {},
   "source": [
    "資料分析與探索(EDA)，通常與資料清理同時且反覆進行\n",
    "1. 描述統計量:單一變數分析資料集狀態(平均數、中位數、)，分布情況(變異數、標準差、IQR)。多變數分析關聯度、因子分析、集群分析\n",
    "2. 統計圖:線圖、長條圖、圓餅圖、散佈圖、相形圖等等"
   ]
  },
  {
   "cell_type": "markdown",
   "metadata": {},
   "source": [
    "一、描述統計量\n",
    "# 以美國薪資為例"
   ]
  },
  {
   "cell_type": "code",
   "execution_count": null,
   "metadata": {},
   "outputs": [],
   "source": [
    "import pandas as pd\n",
    "df = pd.read_csv(\"https://raw.githubusercontent.com/kirenz/datasets/master/wage.csv\")\n"
   ]
  }
 ],
 "metadata": {
  "language_info": {
   "name": "python"
  },
  "orig_nbformat": 4
 },
 "nbformat": 4,
 "nbformat_minor": 2
}
