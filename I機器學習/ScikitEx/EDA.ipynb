{
 "cells": [
  {
   "cell_type": "code",
   "execution_count": null,
   "metadata": {},
   "outputs": [],
   "source": []
  },
  {
   "cell_type": "markdown",
   "metadata": {},
   "source": [
    "資料分析與探索(EDA)，通常與資料清理同時且反覆進行\n",
    "1. 描述統計量:單一變數分析資料集狀態(平均數、中位數、)，分布情況(變異數、標準差、IQR)。多變數分析關聯度、因子分析、集群分析\n",
    "2. 統計圖:線圖、長條圖、圓餅圖、散佈圖、相形圖等等"
   ]
  },
  {
   "cell_type": "markdown",
   "metadata": {},
   "source": [
    "一、描述統計量\n",
    "# 以美國薪資為例"
   ]
  },
  {
   "cell_type": "code",
   "execution_count": 8,
   "metadata": {},
   "outputs": [
    {
     "data": {
      "text/html": [
       "<div>\n",
       "<style scoped>\n",
       "    .dataframe tbody tr th:only-of-type {\n",
       "        vertical-align: middle;\n",
       "    }\n",
       "\n",
       "    .dataframe tbody tr th {\n",
       "        vertical-align: top;\n",
       "    }\n",
       "\n",
       "    .dataframe thead th {\n",
       "        text-align: right;\n",
       "    }\n",
       "</style>\n",
       "<table border=\"1\" class=\"dataframe\">\n",
       "  <thead>\n",
       "    <tr style=\"text-align: right;\">\n",
       "      <th></th>\n",
       "      <th>Unnamed: 0</th>\n",
       "      <th>year</th>\n",
       "      <th>age</th>\n",
       "      <th>logwage</th>\n",
       "      <th>wage</th>\n",
       "    </tr>\n",
       "  </thead>\n",
       "  <tbody>\n",
       "    <tr>\n",
       "      <th>count</th>\n",
       "      <td>3000.00</td>\n",
       "      <td>3000.00</td>\n",
       "      <td>3000.00</td>\n",
       "      <td>3000.00</td>\n",
       "      <td>3000.00</td>\n",
       "    </tr>\n",
       "    <tr>\n",
       "      <th>mean</th>\n",
       "      <td>218883.37</td>\n",
       "      <td>2005.79</td>\n",
       "      <td>42.41</td>\n",
       "      <td>4.65</td>\n",
       "      <td>111.70</td>\n",
       "    </tr>\n",
       "    <tr>\n",
       "      <th>std</th>\n",
       "      <td>145654.07</td>\n",
       "      <td>2.03</td>\n",
       "      <td>11.54</td>\n",
       "      <td>0.35</td>\n",
       "      <td>41.73</td>\n",
       "    </tr>\n",
       "    <tr>\n",
       "      <th>min</th>\n",
       "      <td>7373.00</td>\n",
       "      <td>2003.00</td>\n",
       "      <td>18.00</td>\n",
       "      <td>3.00</td>\n",
       "      <td>20.09</td>\n",
       "    </tr>\n",
       "    <tr>\n",
       "      <th>25%</th>\n",
       "      <td>85622.25</td>\n",
       "      <td>2004.00</td>\n",
       "      <td>33.75</td>\n",
       "      <td>4.45</td>\n",
       "      <td>85.38</td>\n",
       "    </tr>\n",
       "    <tr>\n",
       "      <th>50%</th>\n",
       "      <td>228799.50</td>\n",
       "      <td>2006.00</td>\n",
       "      <td>42.00</td>\n",
       "      <td>4.65</td>\n",
       "      <td>104.92</td>\n",
       "    </tr>\n",
       "    <tr>\n",
       "      <th>75%</th>\n",
       "      <td>374759.50</td>\n",
       "      <td>2008.00</td>\n",
       "      <td>51.00</td>\n",
       "      <td>4.86</td>\n",
       "      <td>128.68</td>\n",
       "    </tr>\n",
       "    <tr>\n",
       "      <th>max</th>\n",
       "      <td>453870.00</td>\n",
       "      <td>2009.00</td>\n",
       "      <td>80.00</td>\n",
       "      <td>5.76</td>\n",
       "      <td>318.34</td>\n",
       "    </tr>\n",
       "  </tbody>\n",
       "</table>\n",
       "</div>"
      ],
      "text/plain": [
       "       Unnamed: 0     year      age  logwage     wage\n",
       "count     3000.00  3000.00  3000.00  3000.00  3000.00\n",
       "mean    218883.37  2005.79    42.41     4.65   111.70\n",
       "std     145654.07     2.03    11.54     0.35    41.73\n",
       "min       7373.00  2003.00    18.00     3.00    20.09\n",
       "25%      85622.25  2004.00    33.75     4.45    85.38\n",
       "50%     228799.50  2006.00    42.00     4.65   104.92\n",
       "75%     374759.50  2008.00    51.00     4.86   128.68\n",
       "max     453870.00  2009.00    80.00     5.76   318.34"
      ]
     },
     "execution_count": 8,
     "metadata": {},
     "output_type": "execute_result"
    }
   ],
   "source": [
    "import pandas as pd\n",
    "df = pd.read_csv(\"https://raw.githubusercontent.com/kirenz/datasets/master/wage.csv\")\n",
    "df['age'].mode()\n",
    "df[\"age\"].mean()\n",
    "round(df[\"age\"].mean(), 2)\n",
    "df[\"age\"].median()\n",
    "df['age'].quantile([.25, .5, .75])\n",
    "df['age'].max() - df['age'].min()\n",
    "round(df['age'].std(),2)\n",
    "round(df.describe(),2)"
   ]
  }
 ],
 "metadata": {
  "kernelspec": {
   "display_name": "base",
   "language": "python",
   "name": "python3"
  },
  "language_info": {
   "codemirror_mode": {
    "name": "ipython",
    "version": 3
   },
   "file_extension": ".py",
   "mimetype": "text/x-python",
   "name": "python",
   "nbconvert_exporter": "python",
   "pygments_lexer": "ipython3",
   "version": "3.9.13"
  },
  "orig_nbformat": 4
 },
 "nbformat": 4,
 "nbformat_minor": 2
}
